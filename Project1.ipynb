{
 "cells": [
  {
   "cell_type": "markdown",
   "id": "1fd1dba9-db01-4b6a-b398-01ed633e9e98",
   "metadata": {},
   "source": [
    "Author: Rafael Oliveira"
   ]
  },
  {
   "cell_type": "code",
   "execution_count": null,
   "id": "c8d0e75f-8fd5-45e6-a18e-a308b45d3255",
   "metadata": {},
   "outputs": [],
   "source": []
  }
 ],
 "metadata": {
  "kernelspec": {
   "display_name": "Python 3 (ipykernel)",
   "language": "python",
   "name": "python3"
  },
  "language_info": {
   "codemirror_mode": {
    "name": "ipython",
    "version": 3
   },
   "file_extension": ".py",
   "mimetype": "text/x-python",
   "name": "python",
   "nbconvert_exporter": "python",
   "pygments_lexer": "ipython3",
   "version": "3.9.13"
  }
 },
 "nbformat": 4,
 "nbformat_minor": 5
}
